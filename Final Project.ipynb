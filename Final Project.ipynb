{
 "cells": [
  {
   "cell_type": "markdown",
   "metadata": {},
   "source": [
    "# Indian Patients - Liver Disease Analysis"
   ]
  },
  {
   "cell_type": "markdown",
   "metadata": {},
   "source": [
    "## <i>Description of Dataset</i>"
   ]
  },
  {
   "cell_type": "markdown",
   "metadata": {},
   "source": [
    "The given dataset is related to Indian patients who have been tested for a liver disease. Based on chemical compounds (bilrubin,albumin,protiens,alkaline phosphatase) present in human body and tests like SGOT, SGPT the outcome mentioned is whether person is a patient i.e, whether he needs to be diagnosed further or not."
   ]
  },
  {
   "cell_type": "markdown",
   "metadata": {},
   "source": [
    "## <i>List of Attributes</i>"
   ]
  },
  {
   "cell_type": "markdown",
   "metadata": {},
   "source": [
    "<i><b>Age</b></i> - Age of the person <br>\n",
    "<i><b>Gender</b></i> - Gender of the person <br>\n",
    "<i><b>Total_Bilirubin</b></i> - Blood test that measures the total amount of Bilirubin present in liver (mg/dL) <br>\n",
    "<i><b>Direct_Bilirubin</b></i> - Blood test that measures the water soluble Bilirubin present in liver (mg/dL) <br>\n",
    "<i><b>Alkaline_Phosphotase (ALP)</b></i> - Enzyme found in blood which helps to breakdown proteins (IU/L) <br>\n",
    "<i><b>Alamine_Aminotransferase (SGPT)</b></i> - Test that measures the level of enzymes made by cells in your liver (IU/L) <br>\n",
    "<i><b>Aspartate_Aminotransferase (SGOT)</b></i> - Test that measures how much of the liver enzymes are present in the blood (IU/L) <br>\n",
    "<i><b>Total_Protiens</b></i> - The total protein test measures the total amount albumin and globulin in human body (g/dL) <br>\n",
    "<i><b>Albumin</b></i> - Albumin is a type of protein which is made by the liver (g/dL) <br>\n",
    "<i><b>Albumin_and_Globulin_Ratio</b></i> - Ratio of two classes (albumin and globulin) of protiens present in blood <br>\n",
    "<i><b>Class</b></i> - Whether the person has liver disease or not "
   ]
  },
  {
   "cell_type": "markdown",
   "metadata": {},
   "source": [
    "### Import Libraries"
   ]
  },
  {
   "cell_type": "code",
   "execution_count": 1,
   "metadata": {},
   "outputs": [],
   "source": [
    "import warnings\n",
    "import pandas as pd\n",
    "import numpy as np\n",
    "import matplotlib.pyplot as plt\n",
    "import seaborn as sns \n",
    "from sklearn import preprocessing\n",
    "from sklearn.preprocessing import StandardScaler\n",
    "from sklearn.utils import resample\n",
    "from sklearn.model_selection import train_test_split\n",
    "from sklearn.linear_model import LogisticRegression\n",
    "from sklearn.metrics import confusion_matrix, accuracy_score, classification_report, precision_score, recall_score\n",
    "from sklearn import metrics\n",
    "from sklearn.ensemble import RandomForestClassifier\n",
    "from sklearn.neighbors import KNeighborsClassifier\n",
    "from sklearn.svm import SVC\n",
    "from xgboost import XGBClassifier"
   ]
  },
  {
   "cell_type": "markdown",
   "metadata": {},
   "source": [
    "### Reading data"
   ]
  },
  {
   "cell_type": "markdown",
   "metadata": {},
   "source": [
    "Loading the data"
   ]
  },
  {
   "cell_type": "code",
   "execution_count": 2,
   "metadata": {},
   "outputs": [
    {
     "data": {
      "text/html": [
       "<div>\n",
       "<style scoped>\n",
       "    .dataframe tbody tr th:only-of-type {\n",
       "        vertical-align: middle;\n",
       "    }\n",
       "\n",
       "    .dataframe tbody tr th {\n",
       "        vertical-align: top;\n",
       "    }\n",
       "\n",
       "    .dataframe thead th {\n",
       "        text-align: right;\n",
       "    }\n",
       "</style>\n",
       "<table border=\"1\" class=\"dataframe\">\n",
       "  <thead>\n",
       "    <tr style=\"text-align: right;\">\n",
       "      <th></th>\n",
       "      <th>0</th>\n",
       "      <th>Age</th>\n",
       "      <th>Gender</th>\n",
       "      <th>Total_Bilirubin</th>\n",
       "      <th>Direct_Bilirubin</th>\n",
       "      <th>Alkaline_Phosphotase</th>\n",
       "      <th>Alamine_Aminotransferase</th>\n",
       "      <th>Aspartate_Aminotransferase</th>\n",
       "      <th>Total_Protiens</th>\n",
       "      <th>Albumin</th>\n",
       "      <th>Albumin_and_Globulin_Ratio</th>\n",
       "      <th>Class</th>\n",
       "    </tr>\n",
       "  </thead>\n",
       "  <tbody>\n",
       "    <tr>\n",
       "      <th>0</th>\n",
       "      <td>1</td>\n",
       "      <td>65</td>\n",
       "      <td>Female</td>\n",
       "      <td>0.7</td>\n",
       "      <td>0.1</td>\n",
       "      <td>187</td>\n",
       "      <td>16</td>\n",
       "      <td>18</td>\n",
       "      <td>6.8</td>\n",
       "      <td>3.3</td>\n",
       "      <td>0.90</td>\n",
       "      <td>No</td>\n",
       "    </tr>\n",
       "    <tr>\n",
       "      <th>1</th>\n",
       "      <td>2</td>\n",
       "      <td>62</td>\n",
       "      <td>Male</td>\n",
       "      <td>10.9</td>\n",
       "      <td>5.5</td>\n",
       "      <td>699</td>\n",
       "      <td>64</td>\n",
       "      <td>100</td>\n",
       "      <td>7.5</td>\n",
       "      <td>3.2</td>\n",
       "      <td>0.74</td>\n",
       "      <td>No</td>\n",
       "    </tr>\n",
       "    <tr>\n",
       "      <th>2</th>\n",
       "      <td>3</td>\n",
       "      <td>62</td>\n",
       "      <td>Male</td>\n",
       "      <td>7.3</td>\n",
       "      <td>4.1</td>\n",
       "      <td>490</td>\n",
       "      <td>60</td>\n",
       "      <td>68</td>\n",
       "      <td>7.0</td>\n",
       "      <td>3.3</td>\n",
       "      <td>0.89</td>\n",
       "      <td>No</td>\n",
       "    </tr>\n",
       "    <tr>\n",
       "      <th>3</th>\n",
       "      <td>4</td>\n",
       "      <td>58</td>\n",
       "      <td>Male</td>\n",
       "      <td>1.0</td>\n",
       "      <td>0.4</td>\n",
       "      <td>182</td>\n",
       "      <td>14</td>\n",
       "      <td>20</td>\n",
       "      <td>6.8</td>\n",
       "      <td>3.4</td>\n",
       "      <td>1.00</td>\n",
       "      <td>No</td>\n",
       "    </tr>\n",
       "    <tr>\n",
       "      <th>4</th>\n",
       "      <td>5</td>\n",
       "      <td>72</td>\n",
       "      <td>Male</td>\n",
       "      <td>3.9</td>\n",
       "      <td>2.0</td>\n",
       "      <td>195</td>\n",
       "      <td>27</td>\n",
       "      <td>59</td>\n",
       "      <td>7.3</td>\n",
       "      <td>2.4</td>\n",
       "      <td>0.40</td>\n",
       "      <td>No</td>\n",
       "    </tr>\n",
       "  </tbody>\n",
       "</table>\n",
       "</div>"
      ],
      "text/plain": [
       "   0  Age  Gender  Total_Bilirubin  Direct_Bilirubin  Alkaline_Phosphotase  \\\n",
       "0  1   65  Female              0.7               0.1                   187   \n",
       "1  2   62    Male             10.9               5.5                   699   \n",
       "2  3   62    Male              7.3               4.1                   490   \n",
       "3  4   58    Male              1.0               0.4                   182   \n",
       "4  5   72    Male              3.9               2.0                   195   \n",
       "\n",
       "   Alamine_Aminotransferase  Aspartate_Aminotransferase  Total_Protiens  \\\n",
       "0                        16                          18             6.8   \n",
       "1                        64                         100             7.5   \n",
       "2                        60                          68             7.0   \n",
       "3                        14                          20             6.8   \n",
       "4                        27                          59             7.3   \n",
       "\n",
       "   Albumin  Albumin_and_Globulin_Ratio Class  \n",
       "0      3.3                        0.90    No  \n",
       "1      3.2                        0.74    No  \n",
       "2      3.3                        0.89    No  \n",
       "3      3.4                        1.00    No  \n",
       "4      2.4                        0.40    No  "
      ]
     },
     "execution_count": 2,
     "metadata": {},
     "output_type": "execute_result"
    }
   ],
   "source": [
    "warnings.filterwarnings(\"ignore\") # to ignore warnings\n",
    "ilpd_df = pd.read_csv(r\"C:\\\\Users\\\\aakas\\\\Desktop\\\\python dataset\\\\IndianLiverPatientData.csv\",header = 0)\n",
    "ilpd_df.head()"
   ]
  },
  {
   "cell_type": "markdown",
   "metadata": {},
   "source": [
    "## Data Pre-processing "
   ]
  },
  {
   "cell_type": "markdown",
   "metadata": {},
   "source": [
    "### 1. Checking for any null values are present"
   ]
  },
  {
   "cell_type": "code",
   "execution_count": 3,
   "metadata": {},
   "outputs": [
    {
     "data": {
      "text/plain": [
       "0                              0\n",
       "Age                            0\n",
       "Gender                        20\n",
       "Total_Bilirubin                0\n",
       "Direct_Bilirubin               0\n",
       "Alkaline_Phosphotase           0\n",
       "Alamine_Aminotransferase       0\n",
       "Aspartate_Aminotransferase     0\n",
       "Total_Protiens                15\n",
       "Albumin                        0\n",
       "Albumin_and_Globulin_Ratio     4\n",
       "Class                          0\n",
       "dtype: int64"
      ]
     },
     "execution_count": 3,
     "metadata": {},
     "output_type": "execute_result"
    }
   ],
   "source": [
    "ilpd_df.isnull().sum()"
   ]
  },
  {
   "cell_type": "markdown",
   "metadata": {},
   "source": [
    "As we can see there are null values present in Gender, Total_protiens, Albumin_and_Globulin_Ratio."
   ]
  },
  {
   "cell_type": "markdown",
   "metadata": {},
   "source": [
    "### 2. Replacing the null values"
   ]
  },
  {
   "cell_type": "code",
   "execution_count": 4,
   "metadata": {},
   "outputs": [
    {
     "data": {
      "text/plain": [
       "0                               int64\n",
       "Age                             int64\n",
       "Gender                         object\n",
       "Total_Bilirubin               float64\n",
       "Direct_Bilirubin              float64\n",
       "Alkaline_Phosphotase            int64\n",
       "Alamine_Aminotransferase        int64\n",
       "Aspartate_Aminotransferase      int64\n",
       "Total_Protiens                float64\n",
       "Albumin                       float64\n",
       "Albumin_and_Globulin_Ratio    float64\n",
       "Class                          object\n",
       "dtype: object"
      ]
     },
     "execution_count": 4,
     "metadata": {},
     "output_type": "execute_result"
    }
   ],
   "source": [
    "ilpd_df.dtypes"
   ]
  },
  {
   "cell_type": "markdown",
   "metadata": {},
   "source": [
    "Here we will replace the null values of Gender(dtype = object) with mode and Total_protiens, Albumin_and_Globulin_Ratio (dtype = float64) with median"
   ]
  },
  {
   "cell_type": "code",
   "execution_count": 5,
   "metadata": {},
   "outputs": [
    {
     "data": {
      "text/plain": [
       "Age                           0\n",
       "Gender                        0\n",
       "Total_Bilirubin               0\n",
       "Direct_Bilirubin              0\n",
       "Alkaline_Phosphotase          0\n",
       "Alamine_Aminotransferase      0\n",
       "Aspartate_Aminotransferase    0\n",
       "Total_Protiens                0\n",
       "Albumin                       0\n",
       "Albumin_and_Globulin_Ratio    0\n",
       "Class                         0\n",
       "dtype: int64"
      ]
     },
     "execution_count": 5,
     "metadata": {},
     "output_type": "execute_result"
    }
   ],
   "source": [
    "ilpd_df1=ilpd_df.copy()\n",
    "for x in ilpd_df1.columns[:]:\n",
    "    if ilpd_df1[x].dtype=='object':\n",
    "        ilpd_df1[x].fillna(ilpd_df1[x].mode()[0],inplace=True)\n",
    "    elif ilpd_df1[x].dtype=='int64' or ilpd_df1[x].dtype=='float64':\n",
    "        ilpd_df1[x].fillna(ilpd_df1[x].median(), inplace=True)\n",
    "\n",
    "ilpd_df1.isnull().sum()"
   ]
  },
  {
   "cell_type": "markdown",
   "metadata": {},
   "source": [
    "### 3. Checking for any outliers are present"
   ]
  },
  {
   "cell_type": "code",
   "execution_count": 6,
   "metadata": {
    "scrolled": true
   },
   "outputs": [
    {
     "name": "stdout",
     "output_type": "stream",
     "text": [
      "               Age Gender  Total_Bilirubin  Direct_Bilirubin  \\\n",
      "count   583.000000    583       583.000000        583.000000   \n",
      "unique         NaN      2              NaN               NaN   \n",
      "top            NaN   Male              NaN               NaN   \n",
      "freq           NaN    441              NaN               NaN   \n",
      "mean     44.746141    NaN         3.298799          1.486106   \n",
      "std      16.189833    NaN         6.209522          2.808498   \n",
      "min       4.000000    NaN         0.400000          0.100000   \n",
      "50%      45.000000    NaN         1.000000          0.300000   \n",
      "90%      66.000000    NaN         7.860000          4.080000   \n",
      "91%      66.000000    NaN         8.900000          4.500000   \n",
      "92%      67.440000    NaN        10.900000          5.144000   \n",
      "93%      69.260000    NaN        12.256000          6.252000   \n",
      "94%      70.000000    NaN        14.816000          7.608000   \n",
      "95%      72.000000    NaN        16.350000          8.400000   \n",
      "96%      72.720000    NaN        18.288000          8.972000   \n",
      "97%      74.540000    NaN        20.108000         10.108000   \n",
      "98%      75.000000    NaN        23.072000         11.736000   \n",
      "max      90.000000    NaN        75.000000         19.700000   \n",
      "\n",
      "        Alkaline_Phosphotase  Alamine_Aminotransferase  \\\n",
      "count             583.000000                583.000000   \n",
      "unique                   NaN                       NaN   \n",
      "top                      NaN                       NaN   \n",
      "freq                     NaN                       NaN   \n",
      "mean              290.576329                 80.713551   \n",
      "std               242.937989                182.620356   \n",
      "min                63.000000                 10.000000   \n",
      "50%               208.000000                 35.000000   \n",
      "90%               511.400000                140.000000   \n",
      "91%               549.440000                153.240000   \n",
      "92%               574.440000                166.880000   \n",
      "93%               610.520000                183.080000   \n",
      "94%               661.240000                198.560000   \n",
      "95%               698.100000                232.000000   \n",
      "96%               792.480000                341.440000   \n",
      "97%               908.560000                409.700000   \n",
      "98%              1103.600000                549.680000   \n",
      "max              2110.000000               2000.000000   \n",
      "\n",
      "        Aspartate_Aminotransferase  Total_Protiens     Albumin  \\\n",
      "count                   583.000000      583.000000  583.000000   \n",
      "unique                         NaN             NaN         NaN   \n",
      "top                            NaN             NaN         NaN   \n",
      "freq                           NaN             NaN         NaN   \n",
      "mean                    109.910806        6.486964    3.141852   \n",
      "std                     288.918529        1.070136    0.795519   \n",
      "min                      10.000000        2.700000    0.900000   \n",
      "50%                      42.000000        6.600000    3.100000   \n",
      "90%                     190.000000        7.900000    4.100000   \n",
      "91%                     230.620000        7.900000    4.200000   \n",
      "92%                     239.960000        8.000000    4.200000   \n",
      "93%                     277.600000        8.000000    4.300000   \n",
      "94%                     351.360000        8.000000    4.300000   \n",
      "95%                     400.900000        8.100000    4.390000   \n",
      "96%                     507.920000        8.200000    4.400000   \n",
      "97%                     626.780000        8.300000    4.500000   \n",
      "98%                     846.160000        8.500000    4.636000   \n",
      "max                    4929.000000        9.600000    5.500000   \n",
      "\n",
      "        Albumin_and_Globulin_Ratio Class  \n",
      "count                   583.000000   583  \n",
      "unique                         NaN     2  \n",
      "top                            NaN    No  \n",
      "freq                           NaN   416  \n",
      "mean                      0.946947   NaN  \n",
      "std                       0.318495   NaN  \n",
      "min                       0.300000   NaN  \n",
      "50%                       0.930000   NaN  \n",
      "90%                       1.300000   NaN  \n",
      "91%                       1.380000   NaN  \n",
      "92%                       1.400000   NaN  \n",
      "93%                       1.400000   NaN  \n",
      "94%                       1.400000   NaN  \n",
      "95%                       1.500000   NaN  \n",
      "96%                       1.507200   NaN  \n",
      "97%                       1.600000   NaN  \n",
      "98%                       1.700000   NaN  \n",
      "max                       2.800000   NaN  \n"
     ]
    }
   ],
   "source": [
    "print(ilpd_df1.describe(np.arange(0.9, 0.99, 0.01), include='all'))"
   ]
  },
  {
   "cell_type": "markdown",
   "metadata": {},
   "source": [
    "We can clearly see that Alkaline Phosphotase has many outliers (maximum value of AP is 2110 but 98% values range around 1103), Alamine_Aminotransferase (maximum value of ALT is 2000 but 98% values range around 549), Apartate_Aminotransferase (maximum value of ASP is 4929 but 98% values range around 846)"
   ]
  },
  {
   "cell_type": "code",
   "execution_count": 7,
   "metadata": {
    "scrolled": true
   },
   "outputs": [
    {
     "name": "stdout",
     "output_type": "stream",
     "text": [
      "               Age Gender  Total_Bilirubin  Direct_Bilirubin  \\\n",
      "count   554.000000    554       554.000000        554.000000   \n",
      "unique         NaN      2              NaN               NaN   \n",
      "top            NaN   Male              NaN               NaN   \n",
      "freq           NaN    420              NaN               NaN   \n",
      "mean     44.599278    NaN         3.044224          1.356498   \n",
      "std      16.215381    NaN         6.034369          2.687107   \n",
      "min       4.000000    NaN         0.400000          0.100000   \n",
      "50%      45.000000    NaN         1.000000          0.300000   \n",
      "90%      65.700000    NaN         6.800000          3.270000   \n",
      "91%      66.000000    NaN         7.323000          4.000000   \n",
      "92%      66.760000    NaN         8.456000          4.300000   \n",
      "93%      69.290000    NaN        10.316000          5.058000   \n",
      "94%      70.000000    NaN        12.592000          6.892000   \n",
      "95%      72.000000    NaN        15.340000          7.940000   \n",
      "96%      72.000000    NaN        17.228000          8.764000   \n",
      "97%      74.410000    NaN        19.682000          9.500000   \n",
      "98%      75.000000    NaN        22.694000         11.270000   \n",
      "max      90.000000    NaN        75.000000         19.700000   \n",
      "\n",
      "        Alkaline_Phosphotase  Alamine_Aminotransferase  \\\n",
      "count             554.000000                554.000000   \n",
      "unique                   NaN                       NaN   \n",
      "top                      NaN                       NaN   \n",
      "freq                     NaN                       NaN   \n",
      "mean              256.442238                 56.194946   \n",
      "std               140.462956                 66.869836   \n",
      "min                63.000000                 10.000000   \n",
      "50%               205.000000                 33.000000   \n",
      "90%               459.400000                119.000000   \n",
      "91%               482.000000                132.230000   \n",
      "92%               496.080000                140.000000   \n",
      "93%               515.870000                152.580000   \n",
      "94%               554.820000                164.920000   \n",
      "95%               576.750000                179.700000   \n",
      "96%               611.760000                195.760000   \n",
      "97%               662.230000                230.820000   \n",
      "98%               698.460000                320.220000   \n",
      "max               901.000000                482.000000   \n",
      "\n",
      "        Aspartate_Aminotransferase  Total_Protiens     Albumin  \\\n",
      "count                   554.000000      554.000000  554.000000   \n",
      "unique                         NaN             NaN         NaN   \n",
      "top                            NaN             NaN         NaN   \n",
      "freq                           NaN             NaN         NaN   \n",
      "mean                     79.326715        6.512274    3.162816   \n",
      "std                     117.844826        1.066705    0.794322   \n",
      "min                      10.000000        2.700000    0.900000   \n",
      "50%                      40.000000        6.600000    3.100000   \n",
      "90%                     173.600000        7.900000    4.170000   \n",
      "91%                     181.920000        8.000000    4.200000   \n",
      "92%                     190.000000        8.000000    4.200000   \n",
      "93%                     230.290000        8.000000    4.300000   \n",
      "94%                     235.820000        8.082000    4.300000   \n",
      "95%                     258.750000        8.135000    4.400000   \n",
      "96%                     349.760000        8.200000    4.400000   \n",
      "97%                     398.230000        8.341000    4.500000   \n",
      "98%                     496.460000        8.500000    4.694000   \n",
      "max                     950.000000        9.600000    5.500000   \n",
      "\n",
      "        Albumin_and_Globulin_Ratio Class  \n",
      "count                   554.000000   554  \n",
      "unique                         NaN     2  \n",
      "top                            NaN    No  \n",
      "freq                           NaN   388  \n",
      "mean                      0.953664   NaN  \n",
      "std                       0.319211   NaN  \n",
      "min                       0.300000   NaN  \n",
      "50%                       0.960000   NaN  \n",
      "90%                       1.354000   NaN  \n",
      "91%                       1.400000   NaN  \n",
      "92%                       1.400000   NaN  \n",
      "93%                       1.400000   NaN  \n",
      "94%                       1.482000   NaN  \n",
      "95%                       1.500000   NaN  \n",
      "96%                       1.545200   NaN  \n",
      "97%                       1.600000   NaN  \n",
      "98%                       1.700000   NaN  \n",
      "max                       2.800000   NaN  \n"
     ]
    }
   ],
   "source": [
    "#Taking 97% of values to treat the outliers\n",
    "ilpd_df2 = ilpd_df1.loc[ilpd_df1[\"Alkaline_Phosphotase\"] < 909]\n",
    "ilpd_df3 = ilpd_df2.loc[ilpd_df2[\"Alamine_Aminotransferase\"] < 500]\n",
    "\n",
    "# To check whether the outliers are removed or not\n",
    "print(ilpd_df3.describe(np.arange(0.9, 0.99, 0.01), include='all'))"
   ]
  },
  {
   "cell_type": "markdown",
   "metadata": {},
   "source": [
    "### 4. Checking for any multicolinearity"
   ]
  },
  {
   "cell_type": "code",
   "execution_count": 8,
   "metadata": {},
   "outputs": [
    {
     "data": {
      "text/plain": [
       "<matplotlib.axes._subplots.AxesSubplot at 0x14f56742c48>"
      ]
     },
     "execution_count": 8,
     "metadata": {},
     "output_type": "execute_result"
    },
    {
     "data": {
      "image/png": "[encoded data removed]",
      "text/plain": [
       "<Figure size 432x288 with 2 Axes>"
      ]
     },
     "metadata": {
      "needs_background": "light"
     },
     "output_type": "display_data"
    }
   ],
   "source": [
    "x = ilpd_df3[['Age', 'Gender', 'Total_Bilirubin', 'Direct_Bilirubin','Alkaline_Phosphotase', 'Alamine_Aminotransferase',\n",
    "         'Aspartate_Aminotransferase', 'Total_Protiens', 'Albumin','Albumin_and_Globulin_Ratio']]\n",
    "y = ilpd_df3[['Class']]\n",
    "cor=x.corr(method=\"pearson\")\n",
    "sns.heatmap(cor,vmax=1.0,vmin=-1.0,annot=True)"
   ]
  },
  {
   "cell_type": "markdown",
   "metadata": {},
   "source": [
    "Observing correlation between the data we can say that we are going to removing following columns:-\n",
    "\n",
    "1. Albumin: - As albumin is correlated to two of the variables that is albumin_and_globulin_ratio and total_proteins we'll eliminate Albumin.<br>\n",
    "2. Direct_Bilirubin:- As we can observe total_bilirubin and Direct_bilirubin are correlated   but total_bilirubin considers both direct_bilirubin and indirect_bilirubin, so keeping total_bilirubin and eliminating direct_bilirubin.<br>\n",
    "3. Aspartate_Aminotransferase:- Between Alamine_Aminotransferase(ALT) and  Aspartate_Aminotransferase(AST), the ALT is more specific to liver compare to AST. As we are predicting the liver diseases we will check for ALT rather then AST."
   ]
  },
  {
   "cell_type": "code",
   "execution_count": 9,
   "metadata": {},
   "outputs": [
    {
     "data": {
      "text/plain": [
       "<matplotlib.axes._subplots.AxesSubplot at 0x14f5697fc48>"
      ]
     },
     "execution_count": 9,
     "metadata": {},
     "output_type": "execute_result"
    },
    {
     "data": {
      "image/png": "[encoded data removed]",
      "text/plain": [
       "<Figure size 432x288 with 2 Axes>"
      ]
     },
     "metadata": {
      "needs_background": "light"
     },
     "output_type": "display_data"
    }
   ],
   "source": [
    "x = ilpd_df3[['Age', 'Gender', 'Total_Bilirubin', 'Alkaline_Phosphotase', 'Alamine_Aminotransferase','Total_Protiens',\n",
    "         'Albumin_and_Globulin_Ratio']]\n",
    "cor=x.corr(method=\"pearson\")\n",
    "sns.heatmap(cor,vmax=1.0,vmin=-1.0,annot=True)"
   ]
  },
  {
   "cell_type": "code",
   "execution_count": 10,
   "metadata": {},
   "outputs": [],
   "source": [
    "ilpd_df4 = pd.concat([x, y], axis=1)"
   ]
  },
  {
   "cell_type": "markdown",
   "metadata": {},
   "source": [
    "### 5. Log transformation"
   ]
  },
  {
   "cell_type": "code",
   "execution_count": 11,
   "metadata": {},
   "outputs": [
    {
     "data": {
      "text/plain": [
       "array([[<matplotlib.axes._subplots.AxesSubplot object at 0x0000014F56A76F48>,\n",
       "        <matplotlib.axes._subplots.AxesSubplot object at 0x0000014F56AFE988>],\n",
       "       [<matplotlib.axes._subplots.AxesSubplot object at 0x0000014F56B39748>,\n",
       "        <matplotlib.axes._subplots.AxesSubplot object at 0x0000014F56B72888>],\n",
       "       [<matplotlib.axes._subplots.AxesSubplot object at 0x0000014F56BAB988>,\n",
       "        <matplotlib.axes._subplots.AxesSubplot object at 0x0000014F56BE4A48>]],\n",
       "      dtype=object)"
      ]
     },
     "execution_count": 11,
     "metadata": {},
     "output_type": "execute_result"
    },
    {
     "data": {
      "image/png": "[encoded data removed]",
      "text/plain": [
       "<Figure size 1008x576 with 6 Axes>"
      ]
     },
     "metadata": {
      "needs_background": "light"
     },
     "output_type": "display_data"
    }
   ],
   "source": [
    "# Split the data into features and target label(Class)\n",
    "disease_initial = ilpd_df4['Class']\n",
    "features_initial = ilpd_df4.drop('Class', axis = 1)\n",
    "\n",
    "# Visualizing skewed continuous features of original data\n",
    "features_initial.hist(figsize=(14,8))"
   ]
  },
  {
   "cell_type": "code",
   "execution_count": 12,
   "metadata": {},
   "outputs": [
    {
     "data": {
      "text/plain": [
       "array([[<matplotlib.axes._subplots.AxesSubplot object at 0x0000014F57694088>,\n",
       "        <matplotlib.axes._subplots.AxesSubplot object at 0x0000014F573F0088>],\n",
       "       [<matplotlib.axes._subplots.AxesSubplot object at 0x0000014F5741D8C8>,\n",
       "        <matplotlib.axes._subplots.AxesSubplot object at 0x0000014F57458248>],\n",
       "       [<matplotlib.axes._subplots.AxesSubplot object at 0x0000014F5748DC48>,\n",
       "        <matplotlib.axes._subplots.AxesSubplot object at 0x0000014F574C7688>]],\n",
       "      dtype=object)"
      ]
     },
     "execution_count": 12,
     "metadata": {},
     "output_type": "execute_result"
    },
    {
     "data": {
      "image/png": "[encoded data removed]",
      "text/plain": [
       "<Figure size 1008x576 with 6 Axes>"
      ]
     },
     "metadata": {
      "needs_background": "light"
     },
     "output_type": "display_data"
    }
   ],
   "source": [
    "# Skewed features are Almaine_Aminotransferase, Alkaline_Phosphotase, Total_Bilirubin\n",
    "# Log-transforming the skewed features\n",
    "skewed = ['Alamine_Aminotransferase', 'Alkaline_Phosphotase','Total_Bilirubin']\n",
    "features_initial[skewed] = ilpd_df4[skewed].apply(lambda x: np.log(x + 1))\n",
    "ilpd_df4[skewed] = features_initial[skewed]\n",
    "\n",
    "ilpd_df4.hist(figsize=(14,8))"
   ]
  },
  {
   "cell_type": "markdown",
   "metadata": {},
   "source": [
    "### EDA\n",
    "### Age wise Class distribution"
   ]
  },
  {
   "cell_type": "code",
   "execution_count": 13,
   "metadata": {},
   "outputs": [
    {
     "data": {
      "text/plain": [
       "Text(0.5, 1.0, 'Age wise Class distribution')"
      ]
     },
     "execution_count": 13,
     "metadata": {},
     "output_type": "execute_result"
    },
    {
     "data": {
      "image/png": "[encoded data removed]",
      "text/plain": [
       "<Figure size 432x288 with 1 Axes>"
      ]
     },
     "metadata": {
      "needs_background": "light"
     },
     "output_type": "display_data"
    }
   ],
   "source": [
    "ilpd_df4['Age Group'] = pd.cut(ilpd_df4['Age'],bins = [0,20,40,60,100],\n",
    "                            labels=['Teen','Young','Adult','Old'])\n",
    "sns.countplot('Age Group',hue = 'Class',data = ilpd_df4)\n",
    "plt.xlabel('Age group of the Person')\n",
    "plt.ylabel('Frequency')\n",
    "plt.title('Age wise Class distribution')"
   ]
  },
  {
   "cell_type": "markdown",
   "metadata": {},
   "source": [
    "In the Age wise class distribution we can conclude that the young group (i.e. 20-40 yrs of age) have higher chances of getting a liver disease followed by the adult (i.e. 40-60 yrs of age) and the old (i.e. 60 & above)"
   ]
  },
  {
   "cell_type": "markdown",
   "metadata": {},
   "source": [
    "### Gender wise Class distribution"
   ]
  },
  {
   "cell_type": "code",
   "execution_count": 14,
   "metadata": {},
   "outputs": [
    {
     "data": {
      "text/plain": [
       "Text(0.5, 1.0, 'Gender wise Class distribution')"
      ]
     },
     "execution_count": 14,
     "metadata": {},
     "output_type": "execute_result"
    },
    {
     "data": {
      "image/png": "[encoded data removed]",
      "text/plain": [
       "<Figure size 432x288 with 1 Axes>"
      ]
     },
     "metadata": {
      "needs_background": "light"
     },
     "output_type": "display_data"
    }
   ],
   "source": [
    "sns.countplot('Gender',hue = 'Class',data = ilpd_df4)\n",
    "plt.xlabel('Gender of the Person')\n",
    "plt.ylabel('Frequency')\n",
    "plt.title('Gender wise Class distribution')"
   ]
  },
  {
   "cell_type": "markdown",
   "metadata": {},
   "source": [
    "In Gender wise class distribution we can conclude that there are higher chances of male patients getting a liver disease than that of female patients"
   ]
  },
  {
   "cell_type": "markdown",
   "metadata": {},
   "source": [
    "### 6. Checking  Class Imbalance"
   ]
  },
  {
   "cell_type": "code",
   "execution_count": 15,
   "metadata": {},
   "outputs": [
    {
     "name": "stdout",
     "output_type": "stream",
     "text": [
      "0    388\n",
      "1    166\n",
      "Name: Class, dtype: int64\n"
     ]
    }
   ],
   "source": [
    "#converting categorical variables into numeric form to make it model ready\n",
    "colname =[\"Gender\",\"Class\"]\n",
    "\n",
    "le={}\n",
    "for value in colname:\n",
    "    le[value]=preprocessing.LabelEncoder()\n",
    "for value in colname:\n",
    "    ilpd_df4[value]=le[value].fit_transform(ilpd_df4[value])\n",
    "print(ilpd_df4['Class'].value_counts())"
   ]
  },
  {
   "cell_type": "markdown",
   "metadata": {},
   "source": [
    "As we can see that there is a class imbalancing in our target variable for that we have to resample"
   ]
  },
  {
   "cell_type": "code",
   "execution_count": 16,
   "metadata": {},
   "outputs": [
    {
     "data": {
      "text/plain": [
       "1    388\n",
       "0    388\n",
       "Name: Class, dtype: int64"
      ]
     },
     "execution_count": 16,
     "metadata": {},
     "output_type": "execute_result"
    }
   ],
   "source": [
    "No = ilpd_df4[ilpd_df4.Class==0]\n",
    "Yes = ilpd_df4[ilpd_df4.Class==1]\n",
    "\n",
    "up_sample = resample(Yes, replace=True, n_samples=388, random_state=0)\n",
    "\n",
    "ilpd_df4 = pd.concat([No, up_sample]) \n",
    "ilpd_df4['Class'].value_counts()"
   ]
  },
  {
   "cell_type": "markdown",
   "metadata": {},
   "source": [
    "### 7. Scaling the features"
   ]
  },
  {
   "cell_type": "markdown",
   "metadata": {},
   "source": [
    "Standardization (subtracting mean and scaling variance) is required for many methods like regularized linear regression, K-NearestNeighbors. One can use following scaling methods -\n",
    "\n",
    "MinMaxScaler - This estimator scales and translates each feature individually such that it is in the given range on the training set, i.e. between zero and one.\n",
    "\n",
    "StandardScaler - It transforms the data in such a manner that it has mean as 0 and standard deviation as 1. It arranges the data in a standard normal distribution.\n",
    "\n",
    "We use StandardScaler here for scaling our data."
   ]
  },
  {
   "cell_type": "code",
   "execution_count": 17,
   "metadata": {
    "scrolled": true
   },
   "outputs": [
    {
     "name": "stdout",
     "output_type": "stream",
     "text": [
      "[[ 1.29118127 -1.80012143 -0.61851954 ... -1.10457741  0.27026155\n",
      "  -0.24263569]\n",
      " [ 1.11123215  0.55551808  2.49334351 ...  0.79978582  0.92681823\n",
      "  -0.74997228]\n",
      " [ 1.11123215  0.55551808  1.91718587 ...  0.70960169  0.45784917\n",
      "  -0.27434422]\n",
      " ...\n",
      " [-1.94790277  0.55551808 -0.61851954 ... -0.44768779  0.55164298\n",
      "   1.34279117]\n",
      " [-1.88791973  0.55551808 -0.52711287 ...  0.36928478  0.17646774\n",
      "   0.39153506]\n",
      " [ 0.81131696  0.55551808 -0.35862231 ... -0.8738131  -1.23043943\n",
      "   0.70862043]]\n"
     ]
    }
   ],
   "source": [
    "#Scaling the features\n",
    "X = ilpd_df4[['Age', 'Gender', 'Total_Bilirubin', 'Alkaline_Phosphotase', 'Alamine_Aminotransferase','Total_Protiens',\n",
    "               'Albumin_and_Globulin_Ratio']]\n",
    "Y = ilpd_df4[['Class']]\n",
    "\n",
    "scaler = StandardScaler()\n",
    "scaler.fit(X)\n",
    "X=scaler.transform(X)\n",
    "print(X)"
   ]
  },
  {
   "cell_type": "markdown",
   "metadata": {},
   "source": [
    "### Splitting the data in train and test"
   ]
  },
  {
   "cell_type": "code",
   "execution_count": 18,
   "metadata": {},
   "outputs": [
    {
     "name": "stdout",
     "output_type": "stream",
     "text": [
      "(620, 7)\n",
      "(156, 7)\n",
      "(620, 1)\n",
      "(156, 1)\n"
     ]
    }
   ],
   "source": [
    "x_train, x_test, y_train, y_test = train_test_split(X,Y, test_size=0.2, random_state=0)\n",
    "print(x_train.shape)\n",
    "print(x_test.shape)\n",
    "print(y_train.shape)\n",
    "print(y_test.shape)"
   ]
  },
  {
   "cell_type": "markdown",
   "metadata": {},
   "source": [
    "## Data Modeling"
   ]
  },
  {
   "cell_type": "markdown",
   "metadata": {},
   "source": [
    "### Supervised learning Algorithms"
   ]
  },
  {
   "cell_type": "markdown",
   "metadata": {},
   "source": [
    "1. Logistic Regression: Since the outcome is binary at the core of this method is a logistic or sigmoid function that quantifies the difference between each prediction and its corresponding true value.\n",
    "2. k Nearest Neighbors: It uses the k closest neighbors of a data point to determine which class should that data point belong to.\n",
    "3. Support Vector Machine: SVM aims to find an optimal hyperplane that separates the data into different classes.\n",
    "4. Random Forest Classifier: It comes under the category of ensemble methods. It employs ‘bagging’ method to draw a random subset from the data, and train a Decision Tree on that.\n",
    "5. XGBoost Classifier : Boosting process slowly learns from data and tries to improve its prediction in subsquent iterations.\n"
   ]
  },
  {
   "cell_type": "markdown",
   "metadata": {},
   "source": [
    "### <i>Logistic Regression</i>"
   ]
  },
  {
   "cell_type": "code",
   "execution_count": 19,
   "metadata": {},
   "outputs": [
    {
     "name": "stdout",
     "output_type": "stream",
     "text": [
      "[1 1 1 0 1 1 1 1 1 1 1 1 0 1 1 1 1 0 0 0 1 1 1 1 0 1 0 1 1 0 0 0 1 1 1 1 1\n",
      " 1 0 0 1 0 1 1 0 0 1 1 0 0 0 0 1 1 0 0 0 0 0 1 1 1 1 0 1 0 0 1 1 0 1 1 1 1\n",
      " 1 1 0 1 0 1 1 1 1 1 1 0 0 1 1 0 1 1 1 1 0 1 1 0 0 1 0 1 1 1 0 1 0 0 1 1 0\n",
      " 1 0 0 1 0 1 1 1 1 0 1 1 1 0 0 0 0 1 1 1 1 1 1 0 1 0 1 0 1 0 1 0 1 1 1 0 0\n",
      " 1 0 0 1 1 0 1 0]\n"
     ]
    }
   ],
   "source": [
    "classifier=LogisticRegression()\n",
    "classifier.fit(x_train,y_train)\n",
    "y_pred_LR=classifier.predict(x_test)\n",
    "print(y_pred_LR)"
   ]
  },
  {
   "cell_type": "code",
   "execution_count": 20,
   "metadata": {},
   "outputs": [
    {
     "name": "stdout",
     "output_type": "stream",
     "text": [
      "[[-0.34832439  0.01147419 -0.85222549 -0.25434675 -0.40893569 -0.09990943\n",
      "   0.23579141]]\n",
      "[-0.17977211]\n"
     ]
    }
   ],
   "source": [
    "print(classifier.coef_)\n",
    "print(classifier.intercept_)"
   ]
  },
  {
   "cell_type": "markdown",
   "metadata": {},
   "source": [
    "#### Confusion matrix, Classification report and Accuracy of Logistic Regression"
   ]
  },
  {
   "cell_type": "code",
   "execution_count": 21,
   "metadata": {},
   "outputs": [
    {
     "name": "stdout",
     "output_type": "stream",
     "text": [
      "Confusion Matrix:\n",
      "[[42 29]\n",
      " [18 67]]\n",
      "Accuracy: 0.6987179487179487\n",
      "Precision: 0.6979166666666666\n",
      "Recall: 0.788235294117647\n",
      "Classification Report:\n",
      "              precision    recall  f1-score   support\n",
      "\n",
      "           0       0.70      0.59      0.64        71\n",
      "           1       0.70      0.79      0.74        85\n",
      "\n",
      "    accuracy                           0.70       156\n",
      "   macro avg       0.70      0.69      0.69       156\n",
      "weighted avg       0.70      0.70      0.70       156\n",
      "\n"
     ]
    }
   ],
   "source": [
    "print(\"Confusion Matrix:\")\n",
    "print(confusion_matrix(y_test, y_pred_LR))\n",
    "print(\"Accuracy:\",accuracy_score(y_test, y_pred_LR))\n",
    "print(\"Precision:\", precision_score(y_test, y_pred_LR))\n",
    "print(\"Recall:\", recall_score(y_test, y_pred_LR))\n",
    "print(\"Classification Report:\")\n",
    "print(classification_report(y_test, y_pred_LR))"
   ]
  },
  {
   "cell_type": "code",
   "execution_count": 22,
   "metadata": {},
   "outputs": [
    {
     "data": {
      "text/plain": [
       "array([[0.34738094, 0.65261906],\n",
       "       [0.27620711, 0.72379289],\n",
       "       [0.4357359 , 0.5642641 ],\n",
       "       [0.7602661 , 0.2397339 ],\n",
       "       [0.41020028, 0.58979972],\n",
       "       [0.29558136, 0.70441864],\n",
       "       [0.32551886, 0.67448114],\n",
       "       [0.37628721, 0.62371279],\n",
       "       [0.28963847, 0.71036153],\n",
       "       [0.39011745, 0.60988255],\n",
       "       [0.34912038, 0.65087962],\n",
       "       [0.35521467, 0.64478533],\n",
       "       [0.72311782, 0.27688218],\n",
       "       [0.33980208, 0.66019792],\n",
       "       [0.31021081, 0.68978919],\n",
       "       [0.39011745, 0.60988255],\n",
       "       [0.34441024, 0.65558976],\n",
       "       [0.63255972, 0.36744028],\n",
       "       [0.58370357, 0.41629643],\n",
       "       [0.66929147, 0.33070853],\n",
       "       [0.35800848, 0.64199152],\n",
       "       [0.15512278, 0.84487722],\n",
       "       [0.231649  , 0.768351  ],\n",
       "       [0.28963847, 0.71036153],\n",
       "       [0.92807514, 0.07192486],\n",
       "       [0.37062007, 0.62937993],\n",
       "       [0.67025909, 0.32974091],\n",
       "       [0.20122299, 0.79877701],\n",
       "       [0.44830861, 0.55169139],\n",
       "       [0.63255972, 0.36744028],\n",
       "       [0.59590802, 0.40409198],\n",
       "       [0.77497383, 0.22502617],\n",
       "       [0.31435891, 0.68564109],\n",
       "       [0.44392077, 0.55607923],\n",
       "       [0.32551886, 0.67448114],\n",
       "       [0.29454404, 0.70545596],\n",
       "       [0.45283107, 0.54716893],\n",
       "       [0.43372329, 0.56627671],\n",
       "       [0.97680825, 0.02319175],\n",
       "       [0.50807755, 0.49192245],\n",
       "       [0.22549265, 0.77450735],\n",
       "       [0.50385544, 0.49614456],\n",
       "       [0.18846524, 0.81153476],\n",
       "       [0.35800848, 0.64199152],\n",
       "       [0.57056923, 0.42943077],\n",
       "       [0.98170012, 0.01829988],\n",
       "       [0.31015952, 0.68984048],\n",
       "       [0.37280073, 0.62719927],\n",
       "       [0.61704212, 0.38295788],\n",
       "       [0.86226093, 0.13773907],\n",
       "       [0.67180167, 0.32819833],\n",
       "       [0.7550027 , 0.2449973 ],\n",
       "       [0.40927624, 0.59072376],\n",
       "       [0.43117072, 0.56882928],\n",
       "       [0.72209016, 0.27790984],\n",
       "       [0.9918977 , 0.0081023 ],\n",
       "       [0.5646737 , 0.4353263 ],\n",
       "       [0.98177637, 0.01822363],\n",
       "       [0.51330084, 0.48669916],\n",
       "       [0.43038535, 0.56961465],\n",
       "       [0.40643366, 0.59356634],\n",
       "       [0.22772842, 0.77227158],\n",
       "       [0.44817269, 0.55182731],\n",
       "       [0.82031716, 0.17968284],\n",
       "       [0.402041  , 0.597959  ],\n",
       "       [0.56395825, 0.43604175],\n",
       "       [0.97100648, 0.02899352],\n",
       "       [0.25954696, 0.74045304],\n",
       "       [0.39011745, 0.60988255],\n",
       "       [0.88704269, 0.11295731],\n",
       "       [0.36044561, 0.63955439],\n",
       "       [0.2490092 , 0.7509908 ],\n",
       "       [0.38246421, 0.61753579],\n",
       "       [0.29374484, 0.70625516],\n",
       "       [0.29924297, 0.70075703],\n",
       "       [0.29927635, 0.70072365],\n",
       "       [0.57702408, 0.42297592],\n",
       "       [0.231649  , 0.768351  ],\n",
       "       [0.69116231, 0.30883769],\n",
       "       [0.30420638, 0.69579362],\n",
       "       [0.32888711, 0.67111289],\n",
       "       [0.20122299, 0.79877701],\n",
       "       [0.46585989, 0.53414011],\n",
       "       [0.37835179, 0.62164821],\n",
       "       [0.3956621 , 0.6043379 ],\n",
       "       [0.96356628, 0.03643372],\n",
       "       [0.92655039, 0.07344961],\n",
       "       [0.29337813, 0.70662187],\n",
       "       [0.2852526 , 0.7147474 ],\n",
       "       [0.96689157, 0.03310843],\n",
       "       [0.30023301, 0.69976699],\n",
       "       [0.32745181, 0.67254819],\n",
       "       [0.37280073, 0.62719927],\n",
       "       [0.32643889, 0.67356111],\n",
       "       [0.69807738, 0.30192262],\n",
       "       [0.30018404, 0.69981596],\n",
       "       [0.38105098, 0.61894902],\n",
       "       [0.61704212, 0.38295788],\n",
       "       [0.50414675, 0.49585325],\n",
       "       [0.33205176, 0.66794824],\n",
       "       [0.50807755, 0.49192245],\n",
       "       [0.34877702, 0.65122298],\n",
       "       [0.20568025, 0.79431975],\n",
       "       [0.31350081, 0.68649919],\n",
       "       [0.84346264, 0.15653736],\n",
       "       [0.47990891, 0.52009109],\n",
       "       [0.93978301, 0.06021699],\n",
       "       [0.50238843, 0.49761157],\n",
       "       [0.2388012 , 0.7611988 ],\n",
       "       [0.15215772, 0.84784228],\n",
       "       [0.58051288, 0.41948712],\n",
       "       [0.27390384, 0.72609616],\n",
       "       [0.95618437, 0.04381563],\n",
       "       [0.68790906, 0.31209094],\n",
       "       [0.32888711, 0.67111289],\n",
       "       [0.94034667, 0.05965333],\n",
       "       [0.2490092 , 0.7509908 ],\n",
       "       [0.42745724, 0.57254276],\n",
       "       [0.23937388, 0.76062612],\n",
       "       [0.27906062, 0.72093938],\n",
       "       [0.8994645 , 0.1005355 ],\n",
       "       [0.37295943, 0.62704057],\n",
       "       [0.2124798 , 0.7875202 ],\n",
       "       [0.41661963, 0.58338037],\n",
       "       [0.94085993, 0.05914007],\n",
       "       [0.98829084, 0.01170916],\n",
       "       [0.65095256, 0.34904744],\n",
       "       [0.7837908 , 0.2162092 ],\n",
       "       [0.28100051, 0.71899949],\n",
       "       [0.44514576, 0.55485424],\n",
       "       [0.43537002, 0.56462998],\n",
       "       [0.40927624, 0.59072376],\n",
       "       [0.4271204 , 0.5728796 ],\n",
       "       [0.24290797, 0.75709203],\n",
       "       [0.53471217, 0.46528783],\n",
       "       [0.49139457, 0.50860543],\n",
       "       [0.96834337, 0.03165663],\n",
       "       [0.29337813, 0.70662187],\n",
       "       [0.60798981, 0.39201019],\n",
       "       [0.25954696, 0.74045304],\n",
       "       [0.51722069, 0.48277931],\n",
       "       [0.42055951, 0.57944049],\n",
       "       [0.95443538, 0.04556462],\n",
       "       [0.29927635, 0.70072365],\n",
       "       [0.28648838, 0.71351162],\n",
       "       [0.31853447, 0.68146553],\n",
       "       [0.99042252, 0.00957748],\n",
       "       [0.95791702, 0.04208298],\n",
       "       [0.22772842, 0.77227158],\n",
       "       [0.75067552, 0.24932448],\n",
       "       [0.82624393, 0.17375607],\n",
       "       [0.20122299, 0.79877701],\n",
       "       [0.41020028, 0.58979972],\n",
       "       [0.83099438, 0.16900562],\n",
       "       [0.29242658, 0.70757342],\n",
       "       [0.79102437, 0.20897563]])"
      ]
     },
     "execution_count": 22,
     "metadata": {},
     "output_type": "execute_result"
    }
   ],
   "source": [
    "y_pred_prob_LR = classifier.predict_proba(x_test)\n",
    "y_pred_prob_LR"
   ]
  },
  {
   "cell_type": "code",
   "execution_count": 23,
   "metadata": {
    "scrolled": true
   },
   "outputs": [
    {
     "name": "stdout",
     "output_type": "stream",
     "text": [
      "Errors at threshold  0.3 : 44  , type 2 error : 3  , type 1 error: 41\n",
      "Errors at threshold  0.31 : 46  , type 2 error : 5  , type 1 error: 41\n",
      "Errors at threshold  0.32 : 47  , type 2 error : 6  , type 1 error: 41\n",
      "Errors at threshold  0.33 : 47  , type 2 error : 7  , type 1 error: 40\n",
      "Errors at threshold  0.34 : 48  , type 2 error : 8  , type 1 error: 40\n",
      "Errors at threshold  0.35000000000000003 : 47  , type 2 error : 8  , type 1 error: 39\n",
      "Errors at threshold  0.36000000000000004 : 47  , type 2 error : 8  , type 1 error: 39\n",
      "Errors at threshold  0.37000000000000005 : 49  , type 2 error : 10  , type 1 error: 39\n",
      "Errors at threshold  0.38000000000000006 : 49  , type 2 error : 10  , type 1 error: 39\n",
      "Errors at threshold  0.39000000000000007 : 51  , type 2 error : 12  , type 1 error: 39\n",
      "Errors at threshold  0.4000000000000001 : 50  , type 2 error : 12  , type 1 error: 38\n",
      "Errors at threshold  0.4100000000000001 : 51  , type 2 error : 13  , type 1 error: 38\n",
      "Errors at threshold  0.4200000000000001 : 53  , type 2 error : 15  , type 1 error: 38\n",
      "Errors at threshold  0.4300000000000001 : 51  , type 2 error : 15  , type 1 error: 36\n",
      "Errors at threshold  0.4400000000000001 : 49  , type 2 error : 15  , type 1 error: 34\n",
      "Errors at threshold  0.4500000000000001 : 49  , type 2 error : 15  , type 1 error: 34\n",
      "Errors at threshold  0.46000000000000013 : 49  , type 2 error : 15  , type 1 error: 34\n",
      "Errors at threshold  0.47000000000000014 : 48  , type 2 error : 15  , type 1 error: 33\n",
      "Errors at threshold  0.48000000000000015 : 48  , type 2 error : 15  , type 1 error: 33\n",
      "Errors at threshold  0.49000000000000016 : 48  , type 2 error : 16  , type 1 error: 32\n",
      "Errors at threshold  0.5000000000000002 : 47  , type 2 error : 18  , type 1 error: 29\n",
      "Errors at threshold  0.5100000000000002 : 46  , type 2 error : 18  , type 1 error: 28\n",
      "Errors at threshold  0.5200000000000002 : 46  , type 2 error : 18  , type 1 error: 28\n",
      "Errors at threshold  0.5300000000000002 : 47  , type 2 error : 19  , type 1 error: 28\n",
      "Errors at threshold  0.5400000000000003 : 48  , type 2 error : 20  , type 1 error: 28\n",
      "Errors at threshold  0.5500000000000003 : 49  , type 2 error : 21  , type 1 error: 28\n",
      "Errors at threshold  0.5600000000000003 : 47  , type 2 error : 22  , type 1 error: 25\n",
      "Errors at threshold  0.5700000000000003 : 48  , type 2 error : 25  , type 1 error: 23\n",
      "Errors at threshold  0.5800000000000003 : 49  , type 2 error : 27  , type 1 error: 22\n",
      "Errors at threshold  0.5900000000000003 : 50  , type 2 error : 29  , type 1 error: 21\n"
     ]
    }
   ],
   "source": [
    "for a in np.arange(0.3,0.6,0.01):\n",
    "    predict_mine = np.where(y_pred_prob_LR[:,1] > a, 1, 0)\n",
    "    cfm=confusion_matrix(y_test, predict_mine)\n",
    "    total_err=cfm[0,1]+cfm[1,0]\n",
    "    print(\"Errors at threshold \", a, \":\",total_err, \" , type 2 error :\",\n",
    "          cfm[1,0],\" , type 1 error:\", cfm[0,1])"
   ]
  },
  {
   "cell_type": "markdown",
   "metadata": {},
   "source": [
    "We know that in this case the type 1 error(i.e having diseases but not predicated), therefore the thersold value can be taken as 0.51 where overall error is less as well as less chances of overfitting."
   ]
  },
  {
   "cell_type": "code",
   "execution_count": 24,
   "metadata": {
    "scrolled": true
   },
   "outputs": [
    {
     "name": "stdout",
     "output_type": "stream",
     "text": [
      "Confusion Matrix:\n",
      "[[43 28]\n",
      " [18 67]]\n",
      "Accuracy: 0.7051282051282052\n",
      "Precision: 0.7052631578947368\n",
      "Recall: 0.788235294117647\n",
      "Classification Report:\n",
      "              precision    recall  f1-score   support\n",
      "\n",
      "           0       0.70      0.61      0.65        71\n",
      "           1       0.71      0.79      0.74        85\n",
      "\n",
      "    accuracy                           0.71       156\n",
      "   macro avg       0.71      0.70      0.70       156\n",
      "weighted avg       0.71      0.71      0.70       156\n",
      "\n"
     ]
    }
   ],
   "source": [
    "y_pred_LR = np.where(y_pred_prob_LR[:,1]>0.51,1,0)\n",
    "\n",
    "# Now again checking the accuracy of the model.\n",
    "print(\"Confusion Matrix:\")\n",
    "print(confusion_matrix(y_test, y_pred_LR))\n",
    "print(\"Accuracy:\",accuracy_score(y_test, y_pred_LR))\n",
    "print(\"Precision:\", precision_score(y_test, y_pred_LR))\n",
    "print(\"Recall:\", recall_score(y_test, y_pred_LR))\n",
    "print(\"Classification Report:\")\n",
    "print(classification_report(y_test, y_pred_LR))"
   ]
  },
  {
   "cell_type": "markdown",
   "metadata": {},
   "source": [
    "#### ROC - AUC of Logistic Regression"
   ]
  },
  {
   "cell_type": "code",
   "execution_count": 25,
   "metadata": {},
   "outputs": [
    {
     "name": "stdout",
     "output_type": "stream",
     "text": [
      "0.7516155758077879\n"
     ]
    },
    {
     "data": {
      "image/png": "[encoded data removed]",
      "text/plain": [
       "<Figure size 432x288 with 1 Axes>"
      ]
     },
     "metadata": {
      "needs_background": "light"
     },
     "output_type": "display_data"
    }
   ],
   "source": [
    "fpr, tpr, z = metrics.roc_curve(y_test, y_pred_prob_LR[:,1])\n",
    "auc_LR = metrics.auc(fpr,tpr)\n",
    "print(auc_LR)\n",
    "\n",
    "plt.title('Receiver Operating Characteristic')\n",
    "plt.plot(fpr, tpr, 'b', label = auc_LR)\n",
    "plt.legend(loc = 'lower right')\n",
    "plt.plot([0, 1], [0, 1],'r--')\n",
    "plt.xlim([0, 1])\n",
    "plt.ylim([0, 1])\n",
    "plt.xlabel('False Positive Rate')\n",
    "plt.ylabel('True Positive Rate')\n",
    "\n",
    "plt.show()"
   ]
  },
  {
   "cell_type": "markdown",
   "metadata": {},
   "source": [
    "Here in <b>Logistic Regression</b> we get an accuracy of <b>70.51%</b> and auc score of <b>75.16%</b>"
   ]
  },
  {
   "cell_type": "markdown",
   "metadata": {},
   "source": [
    "### <i>K-Nearest Neigbor</i>"
   ]
  },
  {
   "cell_type": "code",
   "execution_count": 26,
   "metadata": {},
   "outputs": [
    {
     "name": "stdout",
     "output_type": "stream",
     "text": [
      "[1 1 0 0 0 0 1 1 1 1 0 1 0 1 0 1 1 1 1 1 1 1 1 1 0 1 1 1 1 1 1 1 1 0 1 1 1\n",
      " 0 0 1 1 1 1 1 0 0 1 1 1 0 0 1 1 1 0 0 0 0 1 1 1 1 1 1 1 0 0 1 1 0 1 1 1 0\n",
      " 1 0 0 1 1 1 0 1 1 1 1 0 1 1 1 0 1 1 1 1 0 1 1 1 1 1 1 0 1 1 0 1 0 0 1 1 1\n",
      " 0 0 1 0 0 1 1 1 1 0 1 1 1 0 0 1 1 1 1 1 1 1 0 0 1 0 1 0 1 0 1 1 0 0 0 0 0\n",
      " 1 0 0 1 0 0 1 0]\n"
     ]
    }
   ],
   "source": [
    "KNN_classifier = KNeighborsClassifier(n_neighbors = 3)\n",
    "KNN_classifier.fit(x_train, y_train)\n",
    "y_pred_KNN = KNN_classifier.predict(x_test)\n",
    "print(y_pred_KNN)"
   ]
  },
  {
   "cell_type": "markdown",
   "metadata": {},
   "source": [
    "#### Confusion matrix, Classification report and Accuracy of K-Nearest Neighbor"
   ]
  },
  {
   "cell_type": "code",
   "execution_count": 27,
   "metadata": {},
   "outputs": [
    {
     "name": "stdout",
     "output_type": "stream",
     "text": [
      "Confusion Matrix:\n",
      "[[44 27]\n",
      " [11 74]]\n",
      "Accuracy: 0.7564102564102564\n",
      "Precision: 0.7326732673267327\n",
      "Recall: 0.8705882352941177\n",
      "Classification Report:\n",
      "              precision    recall  f1-score   support\n",
      "\n",
      "           0       0.80      0.62      0.70        71\n",
      "           1       0.73      0.87      0.80        85\n",
      "\n",
      "    accuracy                           0.76       156\n",
      "   macro avg       0.77      0.75      0.75       156\n",
      "weighted avg       0.76      0.76      0.75       156\n",
      "\n"
     ]
    }
   ],
   "source": [
    "print(\"Confusion Matrix:\")\n",
    "print(confusion_matrix(y_test, y_pred_KNN))\n",
    "print(\"Accuracy:\",accuracy_score(y_test, y_pred_KNN))\n",
    "print(\"Precision:\", precision_score(y_test, y_pred_KNN))\n",
    "print(\"Recall:\", recall_score(y_test, y_pred_KNN))\n",
    "print(\"Classification Report:\")\n",
    "print(classification_report(y_test, y_pred_KNN))"
   ]
  },
  {
   "cell_type": "markdown",
   "metadata": {},
   "source": [
    "#### ROC - AUC of K-Nearest Neighbor"
   ]
  },
  {
   "cell_type": "code",
   "execution_count": 28,
   "metadata": {},
   "outputs": [
    {
     "name": "stdout",
     "output_type": "stream",
     "text": [
      "0.7451532725766363\n"
     ]
    },
    {
     "data": {
      "image/png": "[encoded data removed]",
      "text/plain": [
       "<Figure size 432x288 with 1 Axes>"
      ]
     },
     "metadata": {
      "needs_background": "light"
     },
     "output_type": "display_data"
    }
   ],
   "source": [
    "fpr, tpr, z = metrics.roc_curve(y_test, y_pred_KNN)\n",
    "auc_KNN = metrics.auc(fpr,tpr)\n",
    "print(auc_KNN)\n",
    "\n",
    "plt.title('Receiver Operating Characteristic')\n",
    "plt.plot(fpr, tpr, 'b', label = auc_KNN)\n",
    "plt.legend(loc = 'lower right')\n",
    "plt.plot([0, 1], [0, 1],'r--')\n",
    "plt.xlim([0, 1])\n",
    "plt.ylim([0, 1])\n",
    "plt.xlabel('False Positive Rate')\n",
    "plt.ylabel('True Positive Rate')\n",
    "\n",
    "plt.show()"
   ]
  },
  {
   "cell_type": "markdown",
   "metadata": {},
   "source": [
    "Here in <b>K-Nearest Neighbor</b> we get an accuracy of <b>75.64%</b> and auc score of <b>74.51%</b>"
   ]
  },
  {
   "cell_type": "markdown",
   "metadata": {},
   "source": [
    "### <i>Support Vector Machine</i>"
   ]
  },
  {
   "cell_type": "code",
   "execution_count": 29,
   "metadata": {},
   "outputs": [
    {
     "name": "stdout",
     "output_type": "stream",
     "text": [
      "[1 1 1 0 1 0 1 1 1 1 1 1 0 1 1 1 1 1 1 1 1 1 1 1 0 1 1 1 0 1 0 0 1 1 1 1 1\n",
      " 0 0 1 1 1 1 1 0 0 1 1 1 0 1 0 1 1 0 0 0 0 1 1 1 1 1 0 1 0 0 1 1 0 1 1 1 1\n",
      " 1 1 1 1 0 1 1 1 1 1 1 0 0 1 1 0 1 1 1 1 0 1 1 1 1 1 1 1 1 1 0 0 0 1 1 1 0\n",
      " 1 0 0 1 0 1 1 1 1 0 1 1 1 0 0 0 1 1 1 1 1 1 1 1 1 0 1 0 1 1 1 0 1 1 1 0 0\n",
      " 1 0 0 1 1 0 1 0]\n"
     ]
    }
   ],
   "source": [
    "SVC_classifier = SVC(C=1)\n",
    "SVC_classifier.fit(x_train, y_train)\n",
    "y_pred_SVC = SVC_classifier.predict(x_test)\n",
    "print(y_pred_SVC)"
   ]
  },
  {
   "cell_type": "markdown",
   "metadata": {},
   "source": [
    "#### Confusion matrix, Classification report and Accuracy of Support Vector Machine"
   ]
  },
  {
   "cell_type": "code",
   "execution_count": 30,
   "metadata": {},
   "outputs": [
    {
     "name": "stdout",
     "output_type": "stream",
     "text": [
      "Confusion Matrix:\n",
      "[[38 33]\n",
      " [ 8 77]]\n",
      "Accuracy: 0.7371794871794872\n",
      "Precision: 0.7\n",
      "Recall: 0.9058823529411765\n",
      "Classification Report:\n",
      "              precision    recall  f1-score   support\n",
      "\n",
      "           0       0.83      0.54      0.65        71\n",
      "           1       0.70      0.91      0.79        85\n",
      "\n",
      "    accuracy                           0.74       156\n",
      "   macro avg       0.76      0.72      0.72       156\n",
      "weighted avg       0.76      0.74      0.73       156\n",
      "\n"
     ]
    }
   ],
   "source": [
    "print(\"Confusion Matrix:\")\n",
    "print(confusion_matrix(y_test, y_pred_SVC))\n",
    "print(\"Accuracy:\",accuracy_score(y_test, y_pred_SVC))\n",
    "print(\"Precision:\", precision_score(y_test, y_pred_SVC))\n",
    "print(\"Recall:\", recall_score(y_test, y_pred_SVC))\n",
    "print(\"Classification Report:\")\n",
    "print(classification_report(y_test, y_pred_SVC))"
   ]
  },
  {
   "cell_type": "markdown",
   "metadata": {},
   "source": [
    "#### ROC - AUC of Support Vector Machine"
   ]
  },
  {
   "cell_type": "code",
   "execution_count": 31,
   "metadata": {},
   "outputs": [
    {
     "name": "stdout",
     "output_type": "stream",
     "text": [
      "0.7205468102734051\n"
     ]
    },
    {
     "data": {
      "image/png": "[encoded data removed]",
      "text/plain": [
       "<Figure size 432x288 with 1 Axes>"
      ]
     },
     "metadata": {
      "needs_background": "light"
     },
     "output_type": "display_data"
    }
   ],
   "source": [
    "fpr, tpr, z = metrics.roc_curve(y_test, y_pred_SVC)\n",
    "auc_SVC = metrics.auc(fpr,tpr)\n",
    "print(auc_SVC)\n",
    "\n",
    "plt.title('Receiver Operating Characteristic')\n",
    "plt.plot(fpr, tpr, 'b', label = auc_SVC)\n",
    "plt.legend(loc = 'lower right')\n",
    "plt.plot([0, 1], [0, 1],'r--')\n",
    "plt.xlim([0, 1])\n",
    "plt.ylim([0, 1])\n",
    "plt.xlabel('False Positive Rate')\n",
    "plt.ylabel('True Positive Rate')\n",
    "\n",
    "plt.show()"
   ]
  },
  {
   "cell_type": "markdown",
   "metadata": {},
   "source": [
    "Here in <b>SVM</b> we get an accuracy of <b>73.71%</b> and auc score of <b>72.05%</b>"
   ]
  },
  {
   "cell_type": "markdown",
   "metadata": {},
   "source": [
    "### <i>Random Forest</i>"
   ]
  },
  {
   "cell_type": "code",
   "execution_count": 32,
   "metadata": {},
   "outputs": [
    {
     "name": "stdout",
     "output_type": "stream",
     "text": [
      "[1 1 0 0 1 1 1 1 1 1 1 1 0 1 1 1 1 1 1 1 1 1 1 1 0 1 1 1 0 1 1 0 1 0 1 1 1\n",
      " 0 0 1 1 1 1 1 0 0 1 1 1 0 0 1 1 1 0 0 0 0 1 1 1 1 0 0 0 0 0 1 1 0 1 1 1 1\n",
      " 1 1 0 1 1 1 1 1 1 0 1 0 0 1 1 0 1 1 1 1 0 1 1 1 1 0 1 0 1 1 0 1 0 0 1 1 1\n",
      " 1 0 1 1 0 1 1 0 1 0 1 1 1 0 0 0 1 1 0 1 1 1 1 0 1 1 1 0 1 0 1 0 1 0 1 0 0\n",
      " 1 0 0 1 1 0 1 0]\n"
     ]
    }
   ],
   "source": [
    "RF_classifier = RandomForestClassifier(n_estimators=1000,criterion=\"entropy\",min_samples_split=2,random_state=0)\n",
    "RF_classifier.fit(x_train, y_train)\n",
    "y_pred_RF = RF_classifier.predict(x_test)\n",
    "print(y_pred_RF)"
   ]
  },
  {
   "cell_type": "markdown",
   "metadata": {},
   "source": [
    "#### Confusion matrix, Classification report and Accuracy of Random Forest"
   ]
  },
  {
   "cell_type": "code",
   "execution_count": 33,
   "metadata": {},
   "outputs": [
    {
     "name": "stdout",
     "output_type": "stream",
     "text": [
      "Confusion Matrix:\n",
      "[[49 22]\n",
      " [ 4 81]]\n",
      "Accuracy: 0.8333333333333334\n",
      "Precision: 0.7864077669902912\n",
      "Recall: 0.9529411764705882\n",
      "Classification Report:\n",
      "              precision    recall  f1-score   support\n",
      "\n",
      "           0       0.92      0.69      0.79        71\n",
      "           1       0.79      0.95      0.86        85\n",
      "\n",
      "    accuracy                           0.83       156\n",
      "   macro avg       0.86      0.82      0.83       156\n",
      "weighted avg       0.85      0.83      0.83       156\n",
      "\n"
     ]
    }
   ],
   "source": [
    "print(\"Confusion Matrix:\")\n",
    "print(confusion_matrix(y_test, y_pred_RF))\n",
    "print(\"Accuracy:\",accuracy_score(y_test, y_pred_RF))\n",
    "print(\"Precision:\", precision_score(y_test, y_pred_RF))\n",
    "print(\"Recall:\", recall_score(y_test, y_pred_RF))\n",
    "print(\"Classification Report:\")\n",
    "print(classification_report(y_test, y_pred_RF))"
   ]
  },
  {
   "cell_type": "markdown",
   "metadata": {},
   "source": [
    "#### ROC - AUC of Random Forest"
   ]
  },
  {
   "cell_type": "code",
   "execution_count": 34,
   "metadata": {},
   "outputs": [
    {
     "name": "stdout",
     "output_type": "stream",
     "text": [
      "0.8215410107705052\n"
     ]
    },
    {
     "data": {
      "image/png": "[encoded data removed]",
      "text/plain": [
       "<Figure size 432x288 with 1 Axes>"
      ]
     },
     "metadata": {
      "needs_background": "light"
     },
     "output_type": "display_data"
    }
   ],
   "source": [
    "fpr, tpr, z = metrics.roc_curve(y_test, y_pred_RF)\n",
    "auc_RF = metrics.auc(fpr,tpr)\n",
    "print(auc_RF)\n",
    "\n",
    "plt.title('Receiver Operating Characteristic')\n",
    "plt.plot(fpr, tpr, 'b', label = auc_RF)\n",
    "plt.legend(loc = 'lower right')\n",
    "plt.plot([0, 1], [0, 1],'r--')\n",
    "plt.xlim([0, 1])\n",
    "plt.ylim([0, 1])\n",
    "plt.xlabel('False Positive Rate')\n",
    "plt.ylabel('True Positive Rate')\n",
    "\n",
    "plt.show()"
   ]
  },
  {
   "cell_type": "markdown",
   "metadata": {},
   "source": [
    "Here in <b>Random Forest</b> we get an accuracy of <b>83.33%</b> and auc score of <b>82.15%</b>"
   ]
  },
  {
   "cell_type": "markdown",
   "metadata": {},
   "source": [
    "### <i>XGBoost</i>"
   ]
  },
  {
   "cell_type": "code",
   "execution_count": 35,
   "metadata": {},
   "outputs": [
    {
     "name": "stdout",
     "output_type": "stream",
     "text": [
      "[1 0 0 0 1 0 1 1 0 1 1 1 0 1 0 1 1 1 1 1 1 1 1 0 0 1 1 1 0 1 1 0 1 0 1 1 1\n",
      " 0 0 1 1 1 1 1 0 0 1 1 1 0 0 1 1 1 0 0 0 0 1 1 1 1 0 0 0 0 0 1 1 0 1 1 1 1\n",
      " 1 1 1 1 1 1 1 1 1 0 1 0 0 1 1 0 1 1 1 1 1 0 1 1 1 0 1 0 1 1 0 1 0 0 1 1 1\n",
      " 1 0 1 1 0 1 0 0 1 0 1 1 1 0 0 0 1 1 0 1 1 1 0 0 1 1 1 0 1 0 1 0 1 0 1 0 0\n",
      " 1 0 0 1 1 0 1 0]\n"
     ]
    }
   ],
   "source": [
    "XGB = XGBClassifier(n_estimators=10000)\n",
    "XGB.fit(x_train, y_train)\n",
    "y_pred_XGB = XGB.predict(x_test)\n",
    "print(y_pred_XGB)"
   ]
  },
  {
   "cell_type": "markdown",
   "metadata": {},
   "source": [
    "#### Confusion matrix, Classification report and Accuracy of XGBoost"
   ]
  },
  {
   "cell_type": "code",
   "execution_count": 36,
   "metadata": {},
   "outputs": [
    {
     "name": "stdout",
     "output_type": "stream",
     "text": [
      "Confusion Matrix:\n",
      "[[54 17]\n",
      " [ 5 80]]\n",
      "Accuracy: 0.8589743589743589\n",
      "Precision: 0.8247422680412371\n",
      "Recall: 0.9411764705882353\n",
      "Classification Report:\n",
      "              precision    recall  f1-score   support\n",
      "\n",
      "           0       0.92      0.76      0.83        71\n",
      "           1       0.82      0.94      0.88        85\n",
      "\n",
      "    accuracy                           0.86       156\n",
      "   macro avg       0.87      0.85      0.85       156\n",
      "weighted avg       0.87      0.86      0.86       156\n",
      "\n"
     ]
    }
   ],
   "source": [
    "print(\"Confusion Matrix:\")\n",
    "print(confusion_matrix(y_test, y_pred_XGB))\n",
    "print(\"Accuracy:\",accuracy_score(y_test, y_pred_XGB))\n",
    "print(\"Precision:\", precision_score(y_test, y_pred_XGB))\n",
    "print(\"Recall:\", recall_score(y_test, y_pred_XGB))\n",
    "print(\"Classification Report:\")\n",
    "print(classification_report(y_test, y_pred_XGB))"
   ]
  },
  {
   "cell_type": "markdown",
   "metadata": {},
   "source": [
    "#### ROC - AUC of XGBoost"
   ]
  },
  {
   "cell_type": "code",
   "execution_count": 37,
   "metadata": {},
   "outputs": [
    {
     "name": "stdout",
     "output_type": "stream",
     "text": [
      "0.8508699254349626\n"
     ]
    },
    {
     "data": {
      "image/png": "[encoded data removed]",
      "text/plain": [
       "<Figure size 432x288 with 1 Axes>"
      ]
     },
     "metadata": {
      "needs_background": "light"
     },
     "output_type": "display_data"
    }
   ],
   "source": [
    "fpr, tpr, z = metrics.roc_curve(y_test, y_pred_XGB)\n",
    "auc_XGB = metrics.auc(fpr,tpr)\n",
    "print(auc_XGB)\n",
    "\n",
    "plt.title('Receiver Operating Characteristic')\n",
    "plt.plot(fpr, tpr, 'b', label = auc_XGB)\n",
    "plt.legend(loc = 'lower right')\n",
    "plt.plot([0, 1], [0, 1],'r--')\n",
    "plt.xlim([0, 1])\n",
    "plt.ylim([0, 1])\n",
    "plt.xlabel('False Positive Rate')\n",
    "plt.ylabel('True Positive Rate')\n",
    "\n",
    "plt.show()"
   ]
  },
  {
   "cell_type": "markdown",
   "metadata": {},
   "source": [
    "Here in <b>XGBoost</b> we get an accuracy of <b>85.89%</b> and auc score of <b>85.08%</b>"
   ]
  },
  {
   "cell_type": "code",
   "execution_count": 38,
   "metadata": {},
   "outputs": [
    {
     "data": {
      "text/html": [
       "<div>\n",
       "<style scoped>\n",
       "    .dataframe tbody tr th:only-of-type {\n",
       "        vertical-align: middle;\n",
       "    }\n",
       "\n",
       "    .dataframe tbody tr th {\n",
       "        vertical-align: top;\n",
       "    }\n",
       "\n",
       "    .dataframe thead th {\n",
       "        text-align: right;\n",
       "    }\n",
       "</style>\n",
       "<table border=\"1\" class=\"dataframe\">\n",
       "  <thead>\n",
       "    <tr style=\"text-align: right;\">\n",
       "      <th></th>\n",
       "      <th>Model</th>\n",
       "      <th>Accuracy Score</th>\n",
       "      <th>Precision Score</th>\n",
       "      <th>Recall Score</th>\n",
       "      <th>AUC Score</th>\n",
       "    </tr>\n",
       "  </thead>\n",
       "  <tbody>\n",
       "    <tr>\n",
       "      <th>4</th>\n",
       "      <td>XGBoost</td>\n",
       "      <td>0.858974</td>\n",
       "      <td>0.824742</td>\n",
       "      <td>0.941176</td>\n",
       "      <td>0.850870</td>\n",
       "    </tr>\n",
       "    <tr>\n",
       "      <th>3</th>\n",
       "      <td>Random Forest</td>\n",
       "      <td>0.833333</td>\n",
       "      <td>0.786408</td>\n",
       "      <td>0.952941</td>\n",
       "      <td>0.821541</td>\n",
       "    </tr>\n",
       "    <tr>\n",
       "      <th>1</th>\n",
       "      <td>K-Nearest Neighbor</td>\n",
       "      <td>0.756410</td>\n",
       "      <td>0.732673</td>\n",
       "      <td>0.870588</td>\n",
       "      <td>0.745153</td>\n",
       "    </tr>\n",
       "    <tr>\n",
       "      <th>2</th>\n",
       "      <td>Support Vector Machine</td>\n",
       "      <td>0.737179</td>\n",
       "      <td>0.700000</td>\n",
       "      <td>0.905882</td>\n",
       "      <td>0.720547</td>\n",
       "    </tr>\n",
       "    <tr>\n",
       "      <th>0</th>\n",
       "      <td>Logistic Regression</td>\n",
       "      <td>0.705128</td>\n",
       "      <td>0.705263</td>\n",
       "      <td>0.788235</td>\n",
       "      <td>0.751616</td>\n",
       "    </tr>\n",
       "  </tbody>\n",
       "</table>\n",
       "</div>"
      ],
      "text/plain": [
       "                    Model  Accuracy Score  Precision Score  Recall Score  \\\n",
       "4                 XGBoost        0.858974         0.824742      0.941176   \n",
       "3           Random Forest        0.833333         0.786408      0.952941   \n",
       "1      K-Nearest Neighbor        0.756410         0.732673      0.870588   \n",
       "2  Support Vector Machine        0.737179         0.700000      0.905882   \n",
       "0     Logistic Regression        0.705128         0.705263      0.788235   \n",
       "\n",
       "   AUC Score  \n",
       "4   0.850870  \n",
       "3   0.821541  \n",
       "1   0.745153  \n",
       "2   0.720547  \n",
       "0   0.751616  "
      ]
     },
     "execution_count": 38,
     "metadata": {},
     "output_type": "execute_result"
    }
   ],
   "source": [
    "models = pd.DataFrame({\n",
    "    'Model': [ 'Logistic Regression','K-Nearest Neighbor','Support Vector Machine','Random Forest', 'XGBoost'],\n",
    "    'Accuracy Score': [accuracy_score(y_test, y_pred_LR), accuracy_score(y_test, y_pred_KNN), \n",
    "                       accuracy_score(y_test, y_pred_SVC),accuracy_score(y_test, y_pred_RF),\n",
    "                       accuracy_score(y_test, y_pred_XGB)],\n",
    "    'Precision Score': [precision_score(y_test, y_pred_LR), precision_score(y_test, y_pred_KNN), \n",
    "                        precision_score(y_test, y_pred_SVC),precision_score(y_test, y_pred_RF),\n",
    "                        precision_score(y_test, y_pred_XGB)],\n",
    "    'Recall Score' : [recall_score(y_test, y_pred_LR), recall_score(y_test, y_pred_KNN), \n",
    "                      recall_score(y_test, y_pred_SVC),recall_score(y_test, y_pred_RF),\n",
    "                      recall_score(y_test, y_pred_XGB)],\n",
    "    'AUC Score' : [auc_LR, auc_KNN, auc_SVC, auc_RF, auc_XGB]})\n",
    "models.sort_values(by='Accuracy Score', ascending=False)"
   ]
  },
  {
   "cell_type": "markdown",
   "metadata": {},
   "source": [
    "## Conclusion"
   ]
  },
  {
   "cell_type": "markdown",
   "metadata": {},
   "source": [
    "Summarizing all the above parameters, other models in three out of the four parameters, i.e. Accuracy, Precision score, AUC score. In Recall score also, it proves to be the second best model. Hence, based on these results we can conclude that, XGBoost will be the best model to predict whether a person will have a Liver disease or not."
   ]
  }
 ],
 "metadata": {
  "kernelspec": {
   "display_name": "Python 3",
   "language": "python",
   "name": "python3"
  },
  "language_info": {
   "codemirror_mode": {
    "name": "ipython",
    "version": 3
   },
   "file_extension": ".py",
   "mimetype": "text/x-python",
   "name": "python",
   "nbconvert_exporter": "python",
   "pygments_lexer": "ipython3",
   "version": "3.7.3"
  }
 },
 "nbformat": 4,
 "nbformat_minor": 4
}
